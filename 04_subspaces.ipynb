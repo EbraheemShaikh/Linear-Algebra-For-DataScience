{
  "nbformat": 4,
  "nbformat_minor": 0,
  "metadata": {
    "colab": {
      "provenance": [],
      "authorship_tag": "ABX9TyP+Q1fVWq1nZfrm4Kr/dZGT",
      "include_colab_link": true
    },
    "kernelspec": {
      "name": "python3",
      "display_name": "Python 3"
    },
    "language_info": {
      "name": "python"
    }
  },
  "cells": [
    {
      "cell_type": "markdown",
      "metadata": {
        "id": "view-in-github",
        "colab_type": "text"
      },
      "source": [
        "<a href=\"https://colab.research.google.com/github/EbraheemShaikh/Linear-Algebra-For-DataScience/blob/main/04_subspaces.ipynb\" target=\"_parent\"><img src=\"https://colab.research.google.com/assets/colab-badge.svg\" alt=\"Open In Colab\"/></a>"
      ]
    },
    {
      "cell_type": "markdown",
      "source": [
        "# 📘 Lesson 4 – Subspaces of Vector Spaces\n",
        "\n",
        "In this notebook, we cover:\n",
        "- The definition of a subspace\n",
        "- The three required conditions\n",
        "- Examples to test if a set of vectors forms a subspace\n",
        "\n",
        "---\n",
        "\n",
        "## 📐 What is a Subspace?\n",
        "\n",
        "A **subspace** is a special subset of a vector space that itself behaves like a smaller vector space.  \n",
        "A set **V** is a subspace of **ℝⁿ** if it satisfies:\n",
        "\n",
        "1. **Zero Vector**: The set contains the zero vector  \n",
        "2. **Closed under Scalar Multiplication**:  \n",
        "   If **v ∈ V**, then **a·v ∈ V** for any scalar **a**  \n",
        "3. **Closed under Addition**:  \n",
        "   If **u, v ∈ V**, then **u + v ∈ V**\n",
        "\n",
        "---\n"
      ],
      "metadata": {
        "id": "rhtCFSupF9Ue"
      }
    },
    {
      "cell_type": "code",
      "source": [
        "import numpy as np\n",
        "\n",
        "# Example 1: Subspace containing only the zero vector in ℝ³\n",
        "V = [np.array([0, 0, 0])]\n",
        "print(\"V contains only the zero vector.\")\n",
        "\n",
        "# Scalar multiplication\n",
        "scalar_mult = 5 * V[0]\n",
        "print(\"5 * 0 =\", scalar_mult)\n",
        "\n",
        "# Vector addition\n",
        "vec_add = V[0] + V[0]\n",
        "print(\"0 + 0 =\", vec_add)\n",
        "\n",
        "# ✅ All conditions are satisfied → V is a subspace of ℝ³\n"
      ],
      "metadata": {
        "colab": {
          "base_uri": "https://localhost:8080/"
        },
        "id": "AHEcGiMQGDpg",
        "outputId": "33ab0589-49c0-4b94-ffac-ca7afe1ef0e3"
      },
      "execution_count": 1,
      "outputs": [
        {
          "output_type": "stream",
          "name": "stdout",
          "text": [
            "V contains only the zero vector.\n",
            "5 * 0 = [0 0 0]\n",
            "0 + 0 = [0 0 0]\n"
          ]
        }
      ]
    },
    {
      "cell_type": "markdown",
      "source": [
        "---\n",
        "\n",
        "## ❌ Example 2 – Not a Subspace\n",
        "\n",
        "Let **S** ⊆ ℝ² such that every vector **v = [x, y]** where **x ≥ 0**\n",
        "\n",
        "We test:\n",
        "\n",
        "1. ✅ Contains zero vector → `[0, 0] ∈ S`\n",
        "2. ❌ Not closed under scalar multiplication:\n",
        "   - `a * [2, 1] = [-2, -1] ∉ S` when `a = -1`\n",
        "3. ✅ Closed under addition (summing two vectors with x ≥ 0 still gives x ≥ 0)\n",
        "\n",
        "🔴 Fails condition #2 → **Not a subspace**\n"
      ],
      "metadata": {
        "id": "ci3X-MnMGCN5"
      }
    },
    {
      "cell_type": "markdown",
      "source": [
        "---\n",
        "\n",
        "## ✅ Example 3 – Subspace from Span\n",
        "\n",
        "Let **U = Span{v₁, v₂, v₃}**\n",
        "\n",
        "This means U contains all **linear combinations** of those vectors.\n",
        "\n",
        "### Conditions:\n",
        "1. **Zero vector?**  \n",
        "   `0*v₁ + 0*v₂ + 0*v₃ = [0, 0, 0]` → ✅\n",
        "\n",
        "2. **Scalar multiplication?**  \n",
        "   If `x = a₁v₁ + a₂v₂ + a₃v₃`,  \n",
        "   then `c*x = c·a₁v₁ + c·a₂v₂ + c·a₃v₃` → still a linear combination → ✅\n",
        "\n",
        "3. **Addition?**  \n",
        "   Let `x = a₁v₁ + a₂v₂ + a₃v₃` and `y = b₁v₁ + b₂v₂ + b₃v₃`  \n",
        "   Then `x + y = (a₁ + b₁)v₁ + (a₂ + b₂)v₂ + (a₃ + b₃)v₃` → ✅\n",
        "\n",
        "✔️ All conditions satisfied → U is a subspace of ℝ³\n"
      ],
      "metadata": {
        "id": "L_mVAwseGLhQ"
      }
    },
    {
      "cell_type": "code",
      "source": [
        "# Example with 3D vectors\n",
        "v1 = np.array([1, 0, 0])\n",
        "v2 = np.array([0, 1, 0])\n",
        "v3 = np.array([0, 0, 1])\n",
        "\n",
        "# Linear combination that forms a vector in U\n",
        "a1, a2, a3 = 2, -1, 4\n",
        "x = a1*v1 + a2*v2 + a3*v3\n",
        "print(\"Vector x from linear combination:\", x)\n",
        "\n",
        "# Scalar multiplication\n",
        "scaled = 3 * x\n",
        "print(\"3 * x =\", scaled)\n",
        "\n",
        "# Another linear combination\n",
        "b1, b2, b3 = 1, 2, -2\n",
        "y = b1*v1 + b2*v2 + b3*v3\n",
        "print(\"Vector y from linear combination:\", y)\n",
        "\n",
        "# Addition of vectors in U\n",
        "sum_xy = x + y\n",
        "print(\"x + y =\", sum_xy)\n"
      ],
      "metadata": {
        "colab": {
          "base_uri": "https://localhost:8080/"
        },
        "id": "sBOtkwjvGPUB",
        "outputId": "5f32726c-6907-4977-fa65-10ee2dd8571d"
      },
      "execution_count": 2,
      "outputs": [
        {
          "output_type": "stream",
          "name": "stdout",
          "text": [
            "Vector x from linear combination: [ 2 -1  4]\n",
            "3 * x = [ 6 -3 12]\n",
            "Vector y from linear combination: [ 1  2 -2]\n",
            "x + y = [3 1 2]\n"
          ]
        }
      ]
    }
  ]
}