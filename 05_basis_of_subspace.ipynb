{
  "nbformat": 4,
  "nbformat_minor": 0,
  "metadata": {
    "colab": {
      "provenance": [],
      "authorship_tag": "ABX9TyMLhYnAYC8z+b6aOxQ7uI0u",
      "include_colab_link": true
    },
    "kernelspec": {
      "name": "python3",
      "display_name": "Python 3"
    },
    "language_info": {
      "name": "python"
    }
  },
  "cells": [
    {
      "cell_type": "markdown",
      "metadata": {
        "id": "view-in-github",
        "colab_type": "text"
      },
      "source": [
        "<a href=\"https://colab.research.google.com/github/EbraheemShaikh/Linear-Algebra-For-DataScience/blob/main/05_basis_of_subspace.ipynb\" target=\"_parent\"><img src=\"https://colab.research.google.com/assets/colab-badge.svg\" alt=\"Open In Colab\"/></a>"
      ]
    },
    {
      "cell_type": "markdown",
      "source": [
        "# 📘 Lesson 4 – Basis of a Subspace\n",
        "\n",
        "In this notebook, we’ll explore:\n",
        "- What a basis is\n",
        "- How it relates to span and linear independence\n",
        "- Why it's important in linear algebra and data science\n"
      ],
      "metadata": {
        "id": "Z-2tkDGcMOf8"
      }
    },
    {
      "cell_type": "markdown",
      "source": [
        "## 🧩 What is a Basis?\n",
        "\n",
        "A set of vectors **S = {v₁, v₂, ..., vₙ}** is a **basis** for a subspace **V** if:\n",
        "\n",
        "1. The vectors in **S** are **linearly independent**\n",
        "2. The **span** of **S** is **V** (i.e., all linear combinations of vectors in **S** fill up **V**)\n",
        "\n",
        "### 🗣 Informal Definition:\n",
        "> A **basis** is the smallest possible set of vectors that spans a subspace, without redundancy.\n",
        "\n",
        "Every vector in the subspace can be uniquely written as a combination of the basis vectors.\n",
        "\n",
        "---\n"
      ],
      "metadata": {
        "id": "gCziz_4LMOcd"
      }
    },
    {
      "cell_type": "code",
      "execution_count": 1,
      "metadata": {
        "colab": {
          "base_uri": "https://localhost:8080/"
        },
        "id": "qkLYehttMNJl",
        "outputId": "9449b316-c0c5-4395-a156-c7ff8ae82a06"
      },
      "outputs": [
        {
          "output_type": "stream",
          "name": "stdout",
          "text": [
            "Linear combination of v1 and v2: [16  3]\n"
          ]
        }
      ],
      "source": [
        "import numpy as np\n",
        "\n",
        "# Let's define two 2D vectors\n",
        "v1 = np.array([2, 3])\n",
        "v2 = np.array([7, 0])\n",
        "\n",
        "# Combine them to create a vector in their span\n",
        "c1, c2 = 1, 2\n",
        "vector_in_span = c1 * v1 + c2 * v2\n",
        "print(\"Linear combination of v1 and v2:\", vector_in_span)\n"
      ]
    },
    {
      "cell_type": "markdown",
      "source": [
        "---\n",
        "\n",
        "## 🔎 Is {v₁, v₂} a Basis for ℝ²?\n",
        "\n",
        "Let:\n",
        "- v₁ = [2, 3]\n",
        "- v₂ = [7, 0]\n",
        "\n",
        "### Step 1: Do they span ℝ²?\n",
        "\n",
        "Try different combinations of v₁ and v₂. If we can form any [x, y] ∈ ℝ², they span the space.\n",
        "\n",
        "### Step 2: Are they linearly independent?\n",
        "\n",
        "Check if:\n",
        "> `a·v₁ + b·v₂ = [0, 0]`  \n",
        "only has solution **a = 0**, **b = 0**\n",
        "\n",
        "Since both conditions are satisfied → ✅ {v₁, v₂} is a **basis** of ℝ²\n",
        "\n",
        "---\n"
      ],
      "metadata": {
        "id": "3n_L8CBlMW-I"
      }
    },
    {
      "cell_type": "markdown",
      "source": [
        "## 🧭 Standard Basis for ℝ²\n",
        "\n",
        "The most common (and minimal) basis of ℝ²:\n",
        "\n",
        "- **i = [1, 0]**\n",
        "- **j = [0, 1]**\n",
        "\n",
        "Any vector `[x, y]` in ℝ² can be written as:\n",
        "> `x·i + y·j`"
      ],
      "metadata": {
        "id": "ixzHl0GsMcE5"
      }
    },
    {
      "cell_type": "code",
      "source": [
        "i = np.array([1, 0])\n",
        "j = np.array([0, 1])\n",
        "vec = 3*i + 5*j\n",
        "print(\"Vector from standard basis:\", vec)"
      ],
      "metadata": {
        "colab": {
          "base_uri": "https://localhost:8080/"
        },
        "id": "XeMXBlQoMpzG",
        "outputId": "f77971fe-c881-4297-c8b4-9549aa8ae01c"
      },
      "execution_count": 2,
      "outputs": [
        {
          "output_type": "stream",
          "name": "stdout",
          "text": [
            "Vector from standard basis: [3 5]\n"
          ]
        }
      ]
    },
    {
      "cell_type": "markdown",
      "source": [
        "---\n",
        "\n",
        "## 🎯 Key Properties of a Basis\n",
        "\n",
        "- A basis has **no redundant vectors**\n",
        "- A vector space or subspace can have **many bases**\n",
        "- The **representation (weights)** of a vector using a basis is **unique**\n"
      ],
      "metadata": {
        "id": "Zxd6t6wmMeWY"
      }
    }
  ]
}