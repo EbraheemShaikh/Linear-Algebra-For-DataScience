{
  "nbformat": 4,
  "nbformat_minor": 0,
  "metadata": {
    "colab": {
      "provenance": [],
      "authorship_tag": "ABX9TyPEEnGjv7QWy0+EzMp535xC",
      "include_colab_link": true
    },
    "kernelspec": {
      "name": "python3",
      "display_name": "Python 3"
    },
    "language_info": {
      "name": "python"
    }
  },
  "cells": [
    {
      "cell_type": "markdown",
      "metadata": {
        "id": "view-in-github",
        "colab_type": "text"
      },
      "source": [
        "<a href=\"https://colab.research.google.com/github/EbraheemShaikh/Linear-Algebra-For-DataScience/blob/main/07_cauchy_schwarz_inequality.ipynb\" target=\"_parent\"><img src=\"https://colab.research.google.com/assets/colab-badge.svg\" alt=\"Open In Colab\"/></a>"
      ]
    },
    {
      "cell_type": "markdown",
      "source": [
        "# 📐 Cauchy-Schwarz Inequality – Proof and Explanation\n",
        "\n",
        "This notebook walks through the geometric and algebraic proof of the **Cauchy-Schwarz Inequality**, a fundamental concept in linear algebra and machine learning.\n",
        "\n",
        "---\n",
        "## 📌 Statement\n",
        "\n",
        "> For any non-zero vectors **u** and **v** in ℝⁿ:\n",
        "\\[\n",
        "|\\mathbf{u} \\cdot \\mathbf{v}| \\leq \\|\\mathbf{u}\\| \\cdot \\|\\mathbf{v}\\|\n",
        "\\]  \n",
        "\n",
        "\n",
        "- ***|u · v| ≤ ||u|| × ||v||***\n",
        "\n",
        ">Equality **only when**: **u = k·v**\n"
      ],
      "metadata": {
        "id": "wv0qqKo9nIfA"
      }
    },
    {
      "cell_type": "markdown",
      "source": [
        "## 🧪 Strategy of the Proof\n",
        "\n",
        "We define:\n",
        "###***f(t) = ||t·v − u||²***\n",
        "\n",
        "\\[\n",
        "f(t) = \\|t\\mathbf{v} - \\mathbf{u}\\|^2\n",
        "\\]\n",
        "\n",
        "Since a squared length is always ≥ 0:\n",
        ">f(t) **= (t·v − u) · (t·v − u)**  \n",
        "     \n",
        "\n",
        "\\[\n",
        "f(t) = (t\\mathbf{v} - \\mathbf{u}) \\cdot (t\\mathbf{v} - \\mathbf{u}) \\geq 0\n",
        "\\]\n",
        "\n",
        "This gives us a **quadratic** in `t`:\n",
        ">f(t)**= t²·(v · v) − 2t·(v · u) + (u · u)    \n",
        "     = t²·||v||² − 2t·(v · u) + ||u||²**  \n",
        "\\[\n",
        "f(t) = ||\\mathbf{v}||^2 · t^2 - 2(\\mathbf{u} \\cdot \\mathbf{v})t + ||\\mathbf{u}||^2\n",
        "\\]\n",
        "\n",
        "We apply the **discriminant** rule from algebra:\n",
        "- A quadratic is always ≥ 0 if its discriminant ≤ 0\n",
        "\n",
        "So:\n",
        "\n",
        ">***Discriminant = b² − 4ac  \n",
        "Here:  \n",
        "  a = ||v||²  \n",
        "  b = −2(v · u)  \n",
        "  c = ||u||²***  \n",
        "\n",
        "####*Discriminant = 4(v · u)² − 4(||v||²)(||u||²) ≤ 0*\n",
        "\n",
        "\\[\n",
        "\\Delta = [ -2(\\mathbf{u} \\cdot \\mathbf{v}) ]^2 - 4 ||\\mathbf{v}||^2 ||\\mathbf{u}||^2 \\leq 0\n",
        "\\]\n",
        "\n",
        ">**(v · u)² ≤ ||v||² × ||u||²  \n",
        "Take square root of both sides:  \n",
        "|v · u| ≤ ||v|| × ||u||**\n",
        "\n"
      ],
      "metadata": {
        "id": "2nWNiwV9nMV4"
      }
    },
    {
      "cell_type": "code",
      "execution_count": 1,
      "metadata": {
        "colab": {
          "base_uri": "https://localhost:8080/"
        },
        "id": "Me44VxPmnEdQ",
        "outputId": "64ce1aa0-19cb-4b4e-ae89-599d7e7d82e7"
      },
      "outputs": [
        {
          "output_type": "stream",
          "name": "stdout",
          "text": [
            "Left Side |u·v|: 50\n",
            "Right Side ||u||·||v||: 50.0\n",
            "Inequality holds: True\n"
          ]
        }
      ],
      "source": [
        "import numpy as np\n",
        "\n",
        "# Define example vectors\n",
        "u = np.array([3, 4])\n",
        "v = np.array([6, 8])\n",
        "\n",
        "# Compute both sides of the inequality\n",
        "lhs = np.abs(np.dot(u, v))\n",
        "rhs = np.linalg.norm(u) * np.linalg.norm(v)\n",
        "\n",
        "print(\"Left Side |u·v|:\", lhs)\n",
        "print(\"Right Side ||u||·||v||:\", rhs)\n",
        "print(\"Inequality holds:\", lhs <= rhs)\n"
      ]
    },
    {
      "cell_type": "markdown",
      "source": [
        "## ✨ Equality Condition\n",
        "\n",
        "Equality holds **iff** one vector is a scalar multiple of the other:\n",
        "###u = k·v  \n",
        "#### → they're scalar multiples of each other\n",
        "\n",
        "\\[\n",
        "\\mathbf{u} = k·\\mathbf{v}\n",
        "\\]\n",
        "\n",
        "### Example:\n",
        "Let **u = [2, 4]**, **v = [1, 2]**\n",
        "→ clearly, **u = 2·v**\n",
        "\n",
        "So,\n",
        "#- ***|u · v| = ||u|| × ||v||***\n",
        "\\[\n",
        "|\\mathbf{u} \\cdot \\mathbf{v}| = \\|\\mathbf{u}\\| \\cdot \\|\\mathbf{v}\\|\n",
        "\\]\n"
      ],
      "metadata": {
        "id": "lkU5FpRRnYnp"
      }
    },
    {
      "cell_type": "code",
      "source": [
        "u = np.array([2, 4])\n",
        "v = np.array([1, 2])\n",
        "\n",
        "dot = np.abs(np.dot(u, v))\n",
        "product = np.linalg.norm(u) * np.linalg.norm(v)\n",
        "\n",
        "print(\"|u·v|:\", dot)\n",
        "print(\"||u|| * ||v||:\", product)\n",
        "print(\"Are both equal:\", np.isclose(dot, product))\n"
      ],
      "metadata": {
        "colab": {
          "base_uri": "https://localhost:8080/"
        },
        "id": "Je5PxdJOnX90",
        "outputId": "3a736625-f7d5-440d-9a2d-ff1508d4048b"
      },
      "execution_count": 2,
      "outputs": [
        {
          "output_type": "stream",
          "name": "stdout",
          "text": [
            "|u·v|: 10\n",
            "||u|| * ||v||: 10.000000000000002\n",
            "Are both equal: True\n"
          ]
        }
      ]
    },
    {
      "cell_type": "markdown",
      "source": [
        "## ✅ Summary\n",
        "\n",
        "- The Cauchy-Schwarz Inequality is a powerful tool to relate dot product and magnitude.\n",
        "- It ensures:\n",
        "  \\[\n",
        "  |\\mathbf{u} \\cdot \\mathbf{v}| \\leq \\|\\mathbf{u}\\| \\cdot \\|\\mathbf{v}\\|\n",
        "  \\]\n",
        "- Helps define **angle** between vectors, projections, and is used in ML & stats.\n"
      ],
      "metadata": {
        "id": "8CL8k-pHngvL"
      }
    }
  ]
}