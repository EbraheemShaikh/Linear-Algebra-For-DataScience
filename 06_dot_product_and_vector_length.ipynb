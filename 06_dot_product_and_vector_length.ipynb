{
  "nbformat": 4,
  "nbformat_minor": 0,
  "metadata": {
    "colab": {
      "provenance": [],
      "authorship_tag": "ABX9TyMteWEoh05ymIQ7Nm2mUwYn",
      "include_colab_link": true
    },
    "kernelspec": {
      "name": "python3",
      "display_name": "Python 3"
    },
    "language_info": {
      "name": "python"
    }
  },
  "cells": [
    {
      "cell_type": "markdown",
      "metadata": {
        "id": "view-in-github",
        "colab_type": "text"
      },
      "source": [
        "<a href=\"https://colab.research.google.com/github/EbraheemShaikh/Linear-Algebra-For-DataScience/blob/main/06_dot_product_and_vector_length.ipynb\" target=\"_parent\"><img src=\"https://colab.research.google.com/assets/colab-badge.svg\" alt=\"Open In Colab\"/></a>"
      ]
    },
    {
      "cell_type": "markdown",
      "source": [
        "# 🔢 Lesson 5 – Dot Product and Vector Length\n",
        "\n",
        "In this notebook, we’ll explore:\n",
        "- How dot product is calculated\n",
        "- Its geometric interpretation\n",
        "- Key properties and their proofs\n",
        "- Connection between dot product and vector length\n"
      ],
      "metadata": {
        "id": "MZLLOvPU2_IL"
      }
    },
    {
      "cell_type": "markdown",
      "source": [
        "## ✍️ Definition of Dot Product\n",
        "\n",
        "Let:\n",
        "\n",
        "- **u = [u₁, u₂, ..., uₙ]**\n",
        "- **v = [v₁, v₂, ..., vₙ]**\n",
        "\n",
        "Then:\n",
        "> **u · v = u₁·v₁ + u₂·v₂ + ... + uₙ·vₙ**\n",
        "\n",
        "✅ Dot product gives a **scalar**, not a vector.\n"
      ],
      "metadata": {
        "id": "h9lBdcSu3Cbj"
      }
    },
    {
      "cell_type": "code",
      "execution_count": 1,
      "metadata": {
        "colab": {
          "base_uri": "https://localhost:8080/"
        },
        "id": "Hjf7qut4290L",
        "outputId": "78d67668-2a23-4ad1-ee06-fa73d82f2f77"
      },
      "outputs": [
        {
          "output_type": "stream",
          "name": "stdout",
          "text": [
            "Dot product of u and v: 14\n"
          ]
        }
      ],
      "source": [
        "import numpy as np\n",
        "\n",
        "# Example\n",
        "u = np.array([1, 3])\n",
        "v = np.array([2, 4])\n",
        "dot = np.dot(u, v)\n",
        "print(\"Dot product of u and v:\", dot)\n"
      ]
    },
    {
      "cell_type": "markdown",
      "source": [
        "## 📏 Vector Length (a.k.a. Magnitude or Norm)\n",
        "\n",
        "The **length** of a vector v:\n",
        "> **||v|| = sqrt(v · v)**\n"
      ],
      "metadata": {
        "id": "Yo3ZYtXo3HvT"
      }
    },
    {
      "cell_type": "code",
      "source": [
        "# Vector length using dot product\n",
        "length_v = np.sqrt(np.dot(v, v))\n",
        "print(\"Length of vector v:\", length_v)\n"
      ],
      "metadata": {
        "colab": {
          "base_uri": "https://localhost:8080/"
        },
        "id": "vV1gmy2K3Nci",
        "outputId": "6db64263-4d9b-474a-f957-e5a12ce085a7"
      },
      "execution_count": 3,
      "outputs": [
        {
          "output_type": "stream",
          "name": "stdout",
          "text": [
            "Length of vector v: 4.47213595499958\n"
          ]
        }
      ]
    },
    {
      "cell_type": "markdown",
      "source": [
        "## 🧠 Key Dot Product Properties\n",
        "\n",
        "### 1️⃣ Commutative Property\n",
        "> **u · v = v · u**"
      ],
      "metadata": {
        "id": "1BeJD7KO3XEx"
      }
    },
    {
      "cell_type": "code",
      "source": [
        "# Commutative property check\n",
        "dot1 = np.dot(u, v)\n",
        "dot2 = np.dot(v, u)\n",
        "print(\"u · v =\", dot1, \"| v · u =\", dot2)\n"
      ],
      "metadata": {
        "colab": {
          "base_uri": "https://localhost:8080/"
        },
        "id": "TEvXNoc83dap",
        "outputId": "b4159291-5748-4e0c-e4e8-fea8210cb23d"
      },
      "execution_count": 4,
      "outputs": [
        {
          "output_type": "stream",
          "name": "stdout",
          "text": [
            "u · v = 14 | v · u = 14\n"
          ]
        }
      ]
    },
    {
      "cell_type": "markdown",
      "source": [
        "###2️⃣ Distributive Property\n",
        "> **(u + v) · x = u · x + v · x**"
      ],
      "metadata": {
        "id": "BkjpMiUb3lJV"
      }
    },
    {
      "cell_type": "code",
      "source": [
        "x = np.array([5, 1])\n",
        "lhs = np.dot(u + v, x)\n",
        "rhs = np.dot(u, x) + np.dot(v, x)\n",
        "print(\"(u + v) · x =\", lhs, \"| u·x + v·x =\", rhs)\n"
      ],
      "metadata": {
        "colab": {
          "base_uri": "https://localhost:8080/"
        },
        "id": "wQ2x1lvy3o3g",
        "outputId": "ac52b2d6-aa6a-4087-e400-469f5441d572"
      },
      "execution_count": 5,
      "outputs": [
        {
          "output_type": "stream",
          "name": "stdout",
          "text": [
            "(u + v) · x = 22 | u·x + v·x = 22\n"
          ]
        }
      ]
    },
    {
      "cell_type": "markdown",
      "source": [
        "###3️⃣ Scalar Multiplication Property\n",
        "> **(c·v) · w = c · (v · w)**"
      ],
      "metadata": {
        "id": "ZKzmp8lY31Qv"
      }
    },
    {
      "cell_type": "code",
      "source": [
        "c = 3\n",
        "w = np.array([0, 2])\n",
        "lhs = np.dot(c * v, w)\n",
        "rhs = c * np.dot(v, w)\n",
        "print(\"(c·v) · w =\", lhs, \"| c · (v · w) =\", rhs)\n"
      ],
      "metadata": {
        "colab": {
          "base_uri": "https://localhost:8080/"
        },
        "id": "EALciq3p3HHm",
        "outputId": "6b44cb3c-f47b-4768-bffd-77c3a47a98bc"
      },
      "execution_count": 6,
      "outputs": [
        {
          "output_type": "stream",
          "name": "stdout",
          "text": [
            "(c·v) · w = 24 | c · (v · w) = 24\n"
          ]
        }
      ]
    },
    {
      "cell_type": "markdown",
      "source": [
        "## ✅ Summary\n",
        "\n",
        "- Dot product is fundamental in projecting vectors and measuring similarity.\n",
        "- Vector length is directly related to dot product: **||v|| = √(v · v)**\n",
        "- Key properties make dot product useful in geometric & algebraic problems.\n"
      ],
      "metadata": {
        "id": "2_2nI02m4BQB"
      }
    }
  ]
}