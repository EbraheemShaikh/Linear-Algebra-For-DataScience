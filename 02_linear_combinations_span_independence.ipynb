{
  "nbformat": 4,
  "nbformat_minor": 0,
  "metadata": {
    "colab": {
      "provenance": [],
      "authorship_tag": "ABX9TyM39wcXnct19Q786OdhulLA",
      "include_colab_link": true
    },
    "kernelspec": {
      "name": "python3",
      "display_name": "Python 3"
    },
    "language_info": {
      "name": "python"
    }
  },
  "cells": [
    {
      "cell_type": "markdown",
      "metadata": {
        "id": "view-in-github",
        "colab_type": "text"
      },
      "source": [
        "<a href=\"https://colab.research.google.com/github/EbraheemShaikh/Linear-Algebra-For-DataScience/blob/main/02_linear_combinations_span_independence.ipynb\" target=\"_parent\"><img src=\"https://colab.research.google.com/assets/colab-badge.svg\" alt=\"Open In Colab\"/></a>"
      ]
    },
    {
      "cell_type": "markdown",
      "source": [
        "# 🧮 Lesson 2-3 : Linear Combinations, Span and Linear Independence\n",
        "\n",
        "---\n",
        "\n",
        "## 🧠 What is a Linear Combination?\n",
        "\n",
        "A **linear combination** of vectors is an expression like:\n",
        "\n"
      ],
      "metadata": {
        "id": "8Fq79uuCDn2w"
      }
    },
    {
      "cell_type": "markdown",
      "source": [
        "a * v₁ + b * v₂ + ... + n * vₙ"
      ],
      "metadata": {
        "id": "Rgjq6CIpD5ym"
      }
    },
    {
      "cell_type": "markdown",
      "source": [
        "\n",
        "Where:\n",
        "- `v₁, v₂, ..., vₙ` are vectors\n",
        "- `a, b, ..., n` are scalars (real numbers)\n",
        "\n",
        "This creates new vectors by scaling and adding the originals.\n",
        "\n",
        "---\n",
        "\n",
        "## 📘 What is the Span?\n",
        "\n",
        "The **span** of a set of vectors is the collection of **all linear combinations** of those vectors.\n",
        "\n",
        "### ✅ Formal Set Definition:\n"
      ],
      "metadata": {
        "id": "yDRmoe7qD9Cc"
      }
    },
    {
      "cell_type": "markdown",
      "source": [
        "Span{v₁, v₂, ..., vₙ} = { a₁v₁ + a₂v₂ + ... + aₙ*vₙ | aᵢ ∈ ℝ }\n",
        "\n",
        "\n"
      ],
      "metadata": {
        "id": "aXw30Xf4D9N6"
      }
    },
    {
      "cell_type": "markdown",
      "source": [
        "\n",
        "- **Span of a single vector**: a line through that vector and origin.\n",
        "- **Span of two independent vectors in ℝ²**: the entire 2D plane.\n",
        "- **Span of collinear vectors**: a line.\n",
        "- **Span of {0}**: just the origin (0 vector).\n",
        "\n",
        "---\n"
      ],
      "metadata": {
        "id": "yuGT4zPhD9Q_"
      }
    },
    {
      "cell_type": "code",
      "source": [
        "import numpy as np\n",
        "import matplotlib.pyplot as plt\n",
        "\n",
        "# Vectors\n",
        "v1 = np.array([1, 2])\n",
        "v2 = np.array([3, 1])\n",
        "\n",
        "# Linear combination: a*v1 + b*v2\n",
        "a, b = 2, -1\n",
        "combo = a * v1 + b * v2\n",
        "print(\"2*v1 - v2 =\", combo)\n",
        "\n",
        "# Plot vectors and their combination\n",
        "origin = [0], [0]\n",
        "plt.quiver(*origin, v1[0], v1[1], color='r', scale=1, label='v1')\n",
        "plt.quiver(*origin, v2[0], v2[1], color='b', scale=1, label='v2')\n",
        "plt.quiver(*origin, combo[0], combo[1], color='g', scale=1, label='a*v1 + b*v2')\n",
        "plt.grid()\n",
        "plt.axis('equal')\n",
        "plt.title(\"Linear Combination of v1 and v2\")\n",
        "plt.legend()\n",
        "plt.show()\n"
      ],
      "metadata": {
        "colab": {
          "base_uri": "https://localhost:8080/",
          "height": 469
        },
        "id": "R9opc3prEX84",
        "outputId": "b2e7a6e3-1127-41a5-c640-b1668db7b903"
      },
      "execution_count": 1,
      "outputs": [
        {
          "output_type": "stream",
          "name": "stdout",
          "text": [
            "2*v1 - v2 = [-1  3]\n"
          ]
        },
        {
          "output_type": "display_data",
          "data": {
            "text/plain": [
              "<Figure size 640x480 with 1 Axes>"
            ],
            "image/png": "[encoded data removed]"
          },
          "metadata": {}
        }
      ]
    },
    {
      "cell_type": "markdown",
      "source": [
        "---\n",
        "\n",
        "## 🔍 What is Linear Independence?\n",
        "\n",
        "A set of vectors is **linearly independent** if **none of them** can be written as a linear combination of the others.\n",
        "\n",
        "### 🔁 Linear Dependence:\n",
        "A set is **linearly dependent** if **at least one vector** can be written as a combination of the rest.\n",
        "\n",
        "- If two vectors are collinear → **dependent**\n",
        "- If one vector is a multiple or sum of others → **redundant**\n",
        "- Linearly dependent sets **do not expand the span**\n",
        "\n",
        "---\n"
      ],
      "metadata": {
        "id": "sEP6hKKMD9UE"
      }
    },
    {
      "cell_type": "code",
      "source": [
        "# Example 1: Linearly dependent vectors\n",
        "v1 = np.array([1, 2])\n",
        "v2 = np.array([2, 4])  # v2 = 2 * v1\n",
        "\n",
        "# Check proportionality\n",
        "ratio = v2 / v1\n",
        "print(\"Ratio v2 / v1 =\", ratio)  # Should be all same → dependent\n",
        "\n",
        "# Example 2: Linearly independent vectors\n",
        "v3 = np.array([1, 0])\n",
        "v4 = np.array([0, 1])\n",
        "\n",
        "# These span the full 2D plane (ℝ²) and are independent\n",
        "combo = 3 * v3 + 2 * v4\n",
        "print(\"3*v3 + 2*v4 =\", combo)\n"
      ],
      "metadata": {
        "colab": {
          "base_uri": "https://localhost:8080/"
        },
        "id": "pkmgqbOfE7rM",
        "outputId": "0ab3638f-e703-484b-fde2-5a3b8b0a8762"
      },
      "execution_count": 2,
      "outputs": [
        {
          "output_type": "stream",
          "name": "stdout",
          "text": [
            "Ratio v2 / v1 = [2. 2.]\n",
            "3*v3 + 2*v4 = [3 2]\n"
          ]
        }
      ]
    },
    {
      "cell_type": "markdown",
      "source": [
        "---\n",
        "\n",
        "## 📝 Summary Notes\n",
        "\n",
        "- ✅ **Linear combinations** allow creating new vectors from given ones.\n",
        "- ✅ **Span** is the full set of vectors you can reach via combinations.\n",
        "- ✅ **Linear dependence** means some vectors are redundant.\n",
        "- ✅ **Linear independence** means all vectors add new dimensions to the span.\n",
        "\n",
        "---\n"
      ],
      "metadata": {
        "id": "CdoBXklaFBKg"
      }
    }
  ]
}