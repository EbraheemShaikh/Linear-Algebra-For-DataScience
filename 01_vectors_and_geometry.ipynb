{
  "nbformat": 4,
  "nbformat_minor": 0,
  "metadata": {
    "colab": {
      "provenance": [],
      "authorship_tag": "ABX9TyPWx2yjsdRN/lCvzIbVQgoJ",
      "include_colab_link": true
    },
    "kernelspec": {
      "name": "python3",
      "display_name": "Python 3"
    },
    "language_info": {
      "name": "python"
    }
  },
  "cells": [
    {
      "cell_type": "markdown",
      "metadata": {
        "id": "view-in-github",
        "colab_type": "text"
      },
      "source": [
        "<a href=\"https://colab.research.google.com/github/EbraheemShaikh/Linear-Algebra-For-DataScience/blob/main/01_vectors_and_geometry.ipynb\" target=\"_parent\"><img src=\"https://colab.research.google.com/assets/colab-badge.svg\" alt=\"Open In Colab\"/></a>"
      ]
    },
    {
      "cell_type": "markdown",
      "source": [
        "# 🧮 Lesson 1: Vectors and Geometry (Khan Academy Summary)\n",
        "\n",
        "## 📌 Topics Covered\n",
        "\n",
        "1. What is a Vector?\n",
        "2. Real Coordinate Space and n-Dimensional Tuples\n",
        "3. Vector Addition and Visualization\n",
        "4. Scalar Multiplication\n",
        "5. Vector Subtraction\n",
        "6. Unit Vectors and the i, j Notation\n",
        "7. Parametric Representation of Lines\n",
        "8. Summary of Assessments and Reflection\n",
        "\n",
        "---\n",
        "\n",
        "## 1. 🚀 What is a Vector?\n",
        "\n",
        "- A vector is defined by its **magnitude** and **direction**\n",
        "- Its position in space doesn't matter (only relative length and angle do)\n",
        "- Example: `v = [3, 4]` in 2D space\n"
      ],
      "metadata": {
        "id": "e_6FfXzjOeK7"
      }
    },
    {
      "cell_type": "code",
      "source": [
        "import numpy as np\n",
        "import matplotlib.pyplot as plt\n",
        "\n",
        "v = np.array([3, 4])\n",
        "\n",
        "plt.quiver(0, 0, v[0], v[1], angles='xy', scale_units='xy', scale=1, color='r')\n",
        "plt.xlim(-1, 5)\n",
        "plt.ylim(-1, 6)\n",
        "plt.grid()\n",
        "plt.title(\"Vector v = [3, 4]\")\n",
        "plt.show()\n"
      ],
      "metadata": {
        "colab": {
          "base_uri": "https://localhost:8080/",
          "height": 452
        },
        "id": "bnUibmhNSGkg",
        "outputId": "0b66ba5f-5ef4-4ae1-973c-98dd846f010c"
      },
      "execution_count": 10,
      "outputs": [
        {
          "output_type": "display_data",
          "data": {
            "text/plain": [
              "<Figure size 640x480 with 1 Axes>"
            ],
            "image/png": "[encoded data removed]"
          },
          "metadata": {}
        }
      ]
    },
    {
      "cell_type": "markdown",
      "source": [
        "---"
      ],
      "metadata": {
        "id": "Dd6F78_QTN7I"
      }
    },
    {
      "cell_type": "markdown",
      "source": [
        "## 🔢 Real Coordinate Space\n",
        "- **Real coordinate space** ℝⁿ consists of n-tuples of real numbers.\n",
        "- ℝ² = set of all ordered pairs of real numbers.\n",
        "- ℝ³ = 3D space of all ordered triples.\n",
        "---"
      ],
      "metadata": {
        "id": "wBfomQkeOoUc"
      }
    },
    {
      "cell_type": "markdown",
      "source": [
        "## 3. ➕ Vector Addition\n",
        "\n",
        "* Vectors can be added component-wise: `v + w`\n",
        "* Graphically: place tail of `w` at head of `v`"
      ],
      "metadata": {
        "id": "Q6o02XpdScQz"
      }
    },
    {
      "cell_type": "code",
      "source": [
        "v = np.array([2, 1])\n",
        "w = np.array([1, 3])\n",
        "sum_vector = v + w\n",
        "print(\"v + w =\", sum_vector)"
      ],
      "metadata": {
        "colab": {
          "base_uri": "https://localhost:8080/"
        },
        "id": "RArlDR7rSh9v",
        "outputId": "e91d80a4-ab5b-4372-aabc-3881660cb8a5"
      },
      "execution_count": 11,
      "outputs": [
        {
          "output_type": "stream",
          "name": "stdout",
          "text": [
            "v + w = [3 4]\n"
          ]
        }
      ]
    },
    {
      "cell_type": "markdown",
      "source": [
        "---"
      ],
      "metadata": {
        "id": "c6ylpkoGSqFW"
      }
    },
    {
      "cell_type": "markdown",
      "source": [
        "## ✖️ Scalar Multiplication\n",
        "- Multiplying a vector by a scalar stretches or shrinks its magnitude.\n",
        "- If scalar is negative, it reverses the direction."
      ],
      "metadata": {
        "id": "PafJaUTJSrsD"
      }
    },
    {
      "cell_type": "code",
      "source": [
        "print(\"3 * v =\", 3 * v)\n",
        "print(\"-2 * w =\", -2 * w)"
      ],
      "metadata": {
        "colab": {
          "base_uri": "https://localhost:8080/"
        },
        "id": "mlwSPz4nTgBT",
        "outputId": "6d70d4d3-c5a2-4564-fec1-461b8d6bab29"
      },
      "execution_count": 12,
      "outputs": [
        {
          "output_type": "stream",
          "name": "stdout",
          "text": [
            "3 * v = [6 3]\n",
            "-2 * w = [-2 -6]\n"
          ]
        }
      ]
    },
    {
      "cell_type": "markdown",
      "source": [
        "---"
      ],
      "metadata": {
        "id": "CgiH7gKYTmGG"
      }
    },
    {
      "cell_type": "markdown",
      "source": [
        "## ➖ Vector Subtraction\n",
        "- Subtracting one vector from another gives a new vector from one endpoint to another.\n",
        "- `v - w` is different in direction than `w - v`."
      ],
      "metadata": {
        "id": "k_8vPl1ATnax"
      }
    },
    {
      "cell_type": "code",
      "source": [
        "print(\"v - w =\", v - w)\n",
        "print(\"w - v =\", w - v)"
      ],
      "metadata": {
        "colab": {
          "base_uri": "https://localhost:8080/"
        },
        "id": "RTQGbAzpUToB",
        "outputId": "0075f8f0-cded-4628-c829-3d640e78b982"
      },
      "execution_count": 13,
      "outputs": [
        {
          "output_type": "stream",
          "name": "stdout",
          "text": [
            "v - w = [ 1 -2]\n",
            "w - v = [-1  2]\n"
          ]
        }
      ]
    },
    {
      "cell_type": "markdown",
      "source": [
        "---"
      ],
      "metadata": {
        "id": "x3aCvaD_TtyH"
      }
    },
    {
      "cell_type": "markdown",
      "source": [
        "## 🧭 Unit Vectors and Basis Vectors\n",
        "- **Unit vectors** have magnitude = 1.\n",
        "- `\\vec{i}` and `\\vec{j}` are basis vectors in ℝ²: `i = [1, 0]`, `j = [0, 1]`.\n",
        "- Any vector in ℝ² can be written as a linear combination of `i` and `j`."
      ],
      "metadata": {
        "id": "JXNe3UGIUZyj"
      }
    },
    {
      "cell_type": "code",
      "source": [
        "i = np.array([1, 0])\n",
        "j = np.array([0, 1])\n",
        "\n",
        "vector = 2*i + 3*j\n",
        "print(\"2i + 3j =\", vector)"
      ],
      "metadata": {
        "colab": {
          "base_uri": "https://localhost:8080/"
        },
        "id": "JdmazqcaUdrW",
        "outputId": "0c0968d9-d50e-4a63-c1b1-4fb7423c15c2"
      },
      "execution_count": 14,
      "outputs": [
        {
          "output_type": "stream",
          "name": "stdout",
          "text": [
            "2i + 3j = [2 3]\n"
          ]
        }
      ]
    },
    {
      "cell_type": "markdown",
      "source": [
        "---"
      ],
      "metadata": {
        "id": "-YMiD-o4UjQr"
      }
    },
    {
      "cell_type": "markdown",
      "source": [
        "## 📐 Parametric Representation of Lines\n",
        "- A line in space can be described using a vector equation:\n",
        "\n",
        "```markdown\n",
        "\\[ \\vec{l}(t) = \\vec{p} + t\\vec{d} \\]\n",
        "```\n",
        "\n",
        "Where:\n",
        "- `\\vec{p}` is a point on the line\n",
        "- `\\vec{d}` is the direction vector\n",
        "- `t` is a scalar parameter\n"
      ],
      "metadata": {
        "id": "dvsH5L45UkMJ"
      }
    },
    {
      "cell_type": "code",
      "source": [
        "p = np.array([1, 2])     # point on line\n",
        "d = np.array([2, 1])     # direction vector\n",
        "\n",
        "# line equation for t from -2 to 2\n",
        "for t in range(-2, 3):\n",
        "    point = p + t * d\n",
        "    print(f\"t = {t}:\", point)"
      ],
      "metadata": {
        "colab": {
          "base_uri": "https://localhost:8080/"
        },
        "id": "SU0Q16d_UwOI",
        "outputId": "b74aadb8-0be8-49aa-f9c7-727d3cce4249"
      },
      "execution_count": 15,
      "outputs": [
        {
          "output_type": "stream",
          "name": "stdout",
          "text": [
            "t = -2: [-3  0]\n",
            "t = -1: [-1  1]\n",
            "t = 0: [1 2]\n",
            "t = 1: [3 3]\n",
            "t = 2: [5 4]\n"
          ]
        }
      ]
    },
    {
      "cell_type": "markdown",
      "source": [
        "---"
      ],
      "metadata": {
        "id": "PjGyTTa2U5sC"
      }
    },
    {
      "cell_type": "markdown",
      "source": [
        "## ✅ Summary\n",
        "- Learned basic vector definitions, operations, and geometry.\n",
        "- Practiced visualizing and manipulating vectors using NumPy.\n",
        "- Built a foundational understanding to apply in Python coding and real data scenarios.\n"
      ],
      "metadata": {
        "id": "p08LxIgiU6ju"
      }
    }
  ]
}