{
  "cells": [
    {
      "cell_type": "markdown",
      "metadata": {
        "id": "view-in-github",
        "colab_type": "text"
      },
      "source": [
        "<a href=\"https://colab.research.google.com/github/EbraheemShaikh/Linear-Algebra-For-DataScience/blob/main/08_vector_triangle_inequality.ipynb\" target=\"_parent\"><img src=\"https://colab.research.google.com/assets/colab-badge.svg\" alt=\"Open In Colab\"/></a>"
      ]
    },
    {
      "cell_type": "markdown",
      "id": "1049c826",
      "metadata": {
        "id": "1049c826"
      },
      "source": [
        "# 🧮 Lesson 5, Lecture 4: Vector Triangle Inequality\n",
        "**Date:** July 05, 2025\n",
        "\n",
        "In this lesson, we learned and proved the **Vector Triangle Inequality**, building upon our knowledge from the Cauchy-Schwarz Inequality."
      ]
    },
    {
      "cell_type": "markdown",
      "source": [
        "# <h1>📊 Vector Norms and Inequalities</h1>\n",
        "# <h2>Triangle Inequality Proof</h2>\n",
        "\n",
        "# <h3>1️⃣ Define Example Vectors</h3>\n",
        "# <b>Let's create two random vectors in R³</b>\n"
      ],
      "metadata": {
        "id": "Y582gR0Iw-AD"
      },
      "id": "Y582gR0Iw-AD"
    },
    {
      "cell_type": "code",
      "source": [
        "import numpy as np\n",
        "u = np.array([1, 2, 3])\n",
        "v = np.array([4, 5, 6])\n",
        "\n",
        "print(f\"Vector u: {u}\")\n",
        "print(f\"Vector v: {v}\")"
      ],
      "metadata": {
        "colab": {
          "base_uri": "https://localhost:8080/"
        },
        "id": "ij3Nt7ioxTDB",
        "outputId": "09b7f464-707b-4945-a9cf-de2252fc6dec"
      },
      "id": "ij3Nt7ioxTDB",
      "execution_count": 4,
      "outputs": [
        {
          "output_type": "stream",
          "name": "stdout",
          "text": [
            "Vector u: [1 2 3]\n",
            "Vector v: [4 5 6]\n"
          ]
        }
      ]
    },
    {
      "cell_type": "markdown",
      "source": [
        "# <h3>2️⃣ Verify Cauchy-Schwarz Inequality</h3>\n"
      ],
      "metadata": {
        "id": "zMaD_U-SxenM"
      },
      "id": "zMaD_U-SxenM"
    },
    {
      "cell_type": "code",
      "source": [
        "dot_product = np.dot(u, v)\n",
        "norm_u = np.linalg.norm(u)\n",
        "norm_v = np.linalg.norm(v)\n",
        "\n",
        "print(f\"\\nDot product (u·v): {dot_product}\")\n",
        "print(f\"|u·v|: {abs(dot_product)}\")\n",
        "print(f\"||u||·||v||: {norm_u * norm_v}\")\n",
        "\n",
        "# Verify Cauchy-Schwarz\n",
        "assert abs(dot_product) <= norm_u * norm_v\n",
        "print(\"\\n✅ Cauchy-Schwarz inequality holds!\")"
      ],
      "metadata": {
        "colab": {
          "base_uri": "https://localhost:8080/"
        },
        "id": "jYcgEhZOxoBC",
        "outputId": "c3f9aa06-faf1-47e0-83eb-6876f8999c57"
      },
      "id": "jYcgEhZOxoBC",
      "execution_count": 5,
      "outputs": [
        {
          "output_type": "stream",
          "name": "stdout",
          "text": [
            "\n",
            "Dot product (u·v): 32\n",
            "|u·v|: 32\n",
            "||u||·||v||: 32.83291031876401\n",
            "\n",
            "✅ Cauchy-Schwarz inequality holds!\n"
          ]
        }
      ]
    },
    {
      "cell_type": "markdown",
      "source": [
        "# <h3>3️⃣ Verify Triangle Inequality</h3>"
      ],
      "metadata": {
        "id": "cUpFwQEgxwKO"
      },
      "id": "cUpFwQEgxwKO"
    },
    {
      "cell_type": "code",
      "source": [
        "norm_sum = np.linalg.norm(u + v)\n",
        "sum_norms = norm_u + norm_v\n",
        "\n",
        "print(f\"\\n||u + v||: {norm_sum}\")\n",
        "print(f\"||u|| + ||v||: {sum_norms}\")\n",
        "\n",
        "# Verify Triangle Inequality\n",
        "assert norm_sum <= sum_norms\n",
        "print(\"\\n✅ Triangle inequality holds!\")\n"
      ],
      "metadata": {
        "colab": {
          "base_uri": "https://localhost:8080/"
        },
        "id": "X95UiDAJx2V-",
        "outputId": "ae58d171-e974-4ed4-d33a-2409120ad27b"
      },
      "id": "X95UiDAJx2V-",
      "execution_count": 6,
      "outputs": [
        {
          "output_type": "stream",
          "name": "stdout",
          "text": [
            "\n",
            "||u + v||: 12.449899597988733\n",
            "||u|| + ||v||: 12.516621774166063\n",
            "\n",
            "✅ Triangle inequality holds!\n"
          ]
        }
      ]
    },
    {
      "cell_type": "markdown",
      "source": [
        "# <h3>4️⃣ Special Case: Parallel Vectors</h3>\n"
      ],
      "metadata": {
        "id": "Sdu2BmoByAbo"
      },
      "id": "Sdu2BmoByAbo"
    },
    {
      "cell_type": "code",
      "source": [
        "k = 2.5\n",
        "u_parallel = k * v\n",
        "\n",
        "norm_parallel = np.linalg.norm(u_parallel + v)\n",
        "sum_parallel = np.linalg.norm(u_parallel) + norm_v\n",
        "\n",
        "print(f\"\\nFor parallel vectors u = {k}v:\")\n",
        "print(f\"||u + v||: {norm_parallel}\")\n",
        "print(f\"||u|| + ||v||: {sum_parallel}\")\n",
        "print(f\"Equality holds: {np.isclose(norm_parallel, sum_parallel)}\")\n"
      ],
      "metadata": {
        "colab": {
          "base_uri": "https://localhost:8080/"
        },
        "id": "fETy7TaQxTw4",
        "outputId": "fe60d15b-5d86-4c2c-e91b-00e7021557eb"
      },
      "id": "fETy7TaQxTw4",
      "execution_count": 7,
      "outputs": [
        {
          "output_type": "stream",
          "name": "stdout",
          "text": [
            "\n",
            "For parallel vectors u = 2.5v:\n",
            "||u + v||: 30.712375355872428\n",
            "||u|| + ||v||: 30.712375355872425\n",
            "Equality holds: True\n"
          ]
        }
      ]
    },
    {
      "cell_type": "markdown",
      "source": [
        "# <h2>📈 Visualization (2D Example)</h2>\n"
      ],
      "metadata": {
        "id": "8DWjS5ISyJBP"
      },
      "id": "8DWjS5ISyJBP"
    },
    {
      "cell_type": "code",
      "source": [
        "import matplotlib.pyplot as plt\n",
        "\n",
        "# 2D vectors for visualization\n",
        "a = np.array([3, 1])\n",
        "b = np.array([1, 2])\n",
        "\n",
        "plt.figure(figsize=(8, 6))\n",
        "plt.quiver(0, 0, a[0], a[1], angles='xy', scale_units='xy', scale=1, color='r', label='u')\n",
        "plt.quiver(0, 0, b[0], b[1], angles='xy', scale_units='xy', scale=1, color='b', label='v')\n",
        "plt.quiver(0, 0, a[0]+b[0], a[1]+b[1], angles='xy', scale_units='xy', scale=1, color='g', label='u+v')\n",
        "\n",
        "plt.xlim(-1, 5)\n",
        "plt.ylim(-1, 5)\n",
        "plt.axhline(0, color='black',linewidth=0.5)\n",
        "plt.axvline(0, color='black',linewidth=0.5)\n",
        "plt.grid()\n",
        "plt.legend()\n",
        "plt.title('Visualizing the Triangle Inequality')\n",
        "plt.show()\n"
      ],
      "metadata": {
        "colab": {
          "base_uri": "https://localhost:8080/",
          "height": 545
        },
        "id": "rCnO4ABnyD9z",
        "outputId": "98a66797-4d9c-47e2-d0f2-4bdccdacfa0a"
      },
      "id": "rCnO4ABnyD9z",
      "execution_count": 8,
      "outputs": [
        {
          "output_type": "display_data",
          "data": {
            "text/plain": [
              "<Figure size 800x600 with 1 Axes>"
            ],
            "image/png": "[encoded data removed]"
          },
          "metadata": {}
        }
      ]
    },
    {
      "cell_type": "markdown",
      "source": [
        "# <h2>Key Takeaways:</h2>\n",
        "# <ul>\n",
        "# <li>🔹 The triangle inequality shows the \"shortest path\" property of vector addition</li>\n",
        "# <li>🔸 Equality holds only when vectors are parallel (same direction)</li>\n",
        "# <li>🔺 This generalizes the triangle inequality from geometry to n-dimensional spaces</li>\n",
        "# </ul>"
      ],
      "metadata": {
        "id": "w0IpXpPeyV7h"
      },
      "id": "w0IpXpPeyV7h"
    }
  ],
  "metadata": {
    "colab": {
      "provenance": [],
      "include_colab_link": true
    },
    "language_info": {
      "name": "python"
    },
    "kernelspec": {
      "name": "python3",
      "display_name": "Python 3"
    }
  },
  "nbformat": 4,
  "nbformat_minor": 5
}