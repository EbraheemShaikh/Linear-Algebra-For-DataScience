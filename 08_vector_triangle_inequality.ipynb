{
  "cells": [
    {
      "cell_type": "markdown",
      "metadata": {
        "id": "view-in-github",
        "colab_type": "text"
      },
      "source": [
        "<a href=\"https://colab.research.google.com/github/EbraheemShaikh/Linear-Algebra-For-DataScience/blob/main/08_vector_triangle_inequality.ipynb\" target=\"_parent\"><img src=\"https://colab.research.google.com/assets/colab-badge.svg\" alt=\"Open In Colab\"/></a>"
      ]
    },
    {
      "cell_type": "markdown",
      "id": "1049c826",
      "metadata": {
        "id": "1049c826"
      },
      "source": [
        "# 🧮 Lesson 5, Lecture 4: Vector Triangle Inequality\n",
        "**Date:** July 05, 2025\n",
        "\n",
        "In this lesson, we learned and proved the **Vector Triangle Inequality**, building upon our knowledge from the Cauchy-Schwarz Inequality."
      ]
    },
    {
      "cell_type": "markdown",
      "id": "ea5bd2f4",
      "metadata": {
        "id": "ea5bd2f4"
      },
      "source": [
        "## 🔁 Revisiting the Cauchy-Schwarz Inequality\n",
        "The inequality states:\n",
        "\\[ |\\mathbf{u} \\cdot \\mathbf{v}| \\leq \\|\\mathbf{u}\\| \\cdot \\|\\mathbf{v}\\| \\]\n",
        "\n",
        "**Simple version:**\n",
        "`|u · v| ≤ ||u|| × ||v||`"
      ]
    },
    {
      "cell_type": "markdown",
      "id": "c03baec7",
      "metadata": {
        "id": "c03baec7"
      },
      "source": [
        "## 📐 Proving the Vector Triangle Inequality\n",
        "We want to show:\n",
        "\\[ \\|\\mathbf{u} + \\mathbf{v}\\| \\leq \\|\\mathbf{u}\\| + \\|\\mathbf{v}\\| \\]\n",
        "\n",
        "**Simple version:**\n",
        "`||u + v|| ≤ ||u|| + ||v||`\n",
        "\n",
        "**Step-by-step derivation:**"
      ]
    },
    {
      "cell_type": "markdown",
      "id": "ddd703a3",
      "metadata": {
        "id": "ddd703a3"
      },
      "source": [
        "1. Start with the square of the length:\n",
        "   \\[ \\|\\mathbf{u} + \\mathbf{v}\\|^2 = \\mathbf{u} \\cdot \\mathbf{u} + 2\\mathbf{u} \\cdot \\mathbf{v} + \\mathbf{v} \\cdot \\mathbf{v} \\]\n",
        "2. Replace dot products with lengths:\n",
        "   \\[ = \\|\\mathbf{u}\\|^2 + 2(\\mathbf{u} \\cdot \\mathbf{v}) + \\|\\mathbf{v}\\|^2 \\]\n",
        "3. Apply Cauchy-Schwarz:\n",
        "   \\[ \\mathbf{u} \\cdot \\mathbf{v} \\leq \\|\\mathbf{u}\\| \\cdot \\|\\mathbf{v}\\| \\]\n",
        "4. Therefore:\n",
        "   \\[ \\|\\mathbf{u} + \\mathbf{v}\\|^2 \\leq \\|\\mathbf{u}\\|^2 + 2\\|\\mathbf{u}\\|\\|\\mathbf{v}\\| + \\|\\mathbf{v}\\|^2 \\]\n",
        "5. Which simplifies to:\n",
        "   \\[ \\|\\mathbf{u} + \\mathbf{v}\\|^2 \\leq (\\|\\mathbf{u}\\| + \\|\\mathbf{v}\\|)^2 \\]\n",
        "6. Taking square roots:\n",
        "   \\[ \\|\\mathbf{u} + \\mathbf{v}\\| \\leq \\|\\mathbf{u}\\| + \\|\\mathbf{v}\\| \\]"
      ]
    },
    {
      "cell_type": "markdown",
      "id": "f0438dd7",
      "metadata": {
        "id": "f0438dd7"
      },
      "source": [
        "### ✅ Equality Condition:\n",
        "- Equality holds **only** when `u` and `v` are **collinear and point in the same direction**.\n",
        "- i.e., `u = k·v` where `k > 0`."
      ]
    },
    {
      "cell_type": "code",
      "execution_count": 1,
      "id": "3ee71b4e",
      "metadata": {
        "colab": {
          "base_uri": "https://localhost:8080/"
        },
        "id": "3ee71b4e",
        "outputId": "1d83b6cb-8257-4347-d471-24c18a855943"
      },
      "outputs": [
        {
          "output_type": "stream",
          "name": "stdout",
          "text": [
            "||u|| = 2.236\n",
            "||v|| = 3.162\n",
            "||u + v|| = 5.0\n",
            "||u + v|| ≤ ||u|| + ||v||: True\n"
          ]
        }
      ],
      "source": [
        "# 🔍 Let's visualize this in NumPy\n",
        "import numpy as np\n",
        "u = np.array([2, 1])\n",
        "v = np.array([1, 3])\n",
        "\n",
        "length_u = np.linalg.norm(u)\n",
        "length_v = np.linalg.norm(v)\n",
        "length_u_plus_v = np.linalg.norm(u + v)\n",
        "\n",
        "print('||u|| =', round(length_u, 3))\n",
        "print('||v|| =', round(length_v, 3))\n",
        "print('||u + v|| =', round(length_u_plus_v, 3))\n",
        "print('||u + v|| ≤ ||u|| + ||v||:', length_u_plus_v <= (length_u + length_v))"
      ]
    },
    {
      "cell_type": "markdown",
      "id": "d3a8c1a5",
      "metadata": {
        "id": "d3a8c1a5"
      },
      "source": [
        "## 📈 Visualization"
      ]
    },
    {
      "cell_type": "code",
      "execution_count": 2,
      "id": "a1d4c9f8",
      "metadata": {
        "colab": {
          "base_uri": "https://localhost:8080/",
          "height": 545
        },
        "id": "a1d4c9f8",
        "outputId": "587d34ad-7816-472a-aeaa-6bc7ab132693"
      },
      "outputs": [
        {
          "output_type": "display_data",
          "data": {
            "text/plain": [
              "<Figure size 800x600 with 1 Axes>"
            ],
            "image/png": "[encoded data removed]"
          },
          "metadata": {}
        }
      ],
      "source": [
        "import matplotlib.pyplot as plt\n",
        "\n",
        "plt.figure(figsize=(8, 6))\n",
        "plt.quiver(0, 0, u[0], u[1], angles='xy', scale_units='xy', scale=1,\n",
        "           color='r', label=f'u (||u||={length_u:.2f}')\n",
        "plt.quiver(0, 0, v[0], v[1], angles='xy', scale_units='xy', scale=1,\n",
        "           color='b', label=f'v (||v||={length_v:.2f}')\n",
        "plt.quiver(0, 0, u[0]+v[0], u[1]+v[1], angles='xy', scale_units='xy', scale=1,\n",
        "           color='g', label=f'u+v (||u+v||={length_u_plus_v:.2f}')\n",
        "\n",
        "plt.xlim(-1, 4)\n",
        "plt.ylim(-1, 5)\n",
        "plt.axhline(0, color='black', linewidth=0.5)\n",
        "plt.axvline(0, color='black', linewidth=0.5)\n",
        "plt.grid()\n",
        "plt.legend()\n",
        "plt.title('Triangle Inequality Visualization')\n",
        "plt.gca().set_aspect('equal')\n",
        "plt.show()"
      ]
    }
  ],
  "metadata": {
    "kernelspec": {
      "display_name": "Python 3 (ipykernel)",
      "language": "python",
      "name": "python3"
    },
    "language_info": {
      "codemirror_mode": {
        "name": "ipython",
        "version": 3
      },
      "file_extension": ".py",
      "mimetype": "text/x-python",
      "name": "python",
      "nbconvert_exporter": "python",
      "pygments_lexer": "ipython3",
      "version": "3.9.13"
    },
    "colab": {
      "provenance": [],
      "include_colab_link": true
    }
  },
  "nbformat": 4,
  "nbformat_minor": 5
}