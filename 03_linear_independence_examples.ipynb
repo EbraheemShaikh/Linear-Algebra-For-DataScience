{
  "nbformat": 4,
  "nbformat_minor": 0,
  "metadata": {
    "colab": {
      "provenance": [],
      "authorship_tag": "ABX9TyN3m1vlZt5JjhJyI7c3QzuB",
      "include_colab_link": true
    },
    "kernelspec": {
      "name": "python3",
      "display_name": "Python 3"
    },
    "language_info": {
      "name": "python"
    }
  },
  "cells": [
    {
      "cell_type": "markdown",
      "metadata": {
        "id": "view-in-github",
        "colab_type": "text"
      },
      "source": [
        "<a href=\"https://colab.research.google.com/github/EbraheemShaikh/Linear-Algebra-For-DataScience/blob/main/03_linear_independence_examples.ipynb\" target=\"_parent\"><img src=\"https://colab.research.google.com/assets/colab-badge.svg\" alt=\"Open In Colab\"/></a>"
      ]
    },
    {
      "cell_type": "markdown",
      "source": [
        "# 🔗 Lesson 3: Linear Independence – Formal Test & Examples\n",
        "\n",
        "---\n",
        "\n",
        "## ✅ What is Linear Independence?\n",
        "\n",
        "A set of vectors {v₁, v₂, ..., vₙ} is:\n",
        "- **Linearly independent** if:\n"
      ],
      "metadata": {
        "id": "znqI7EWilom7"
      }
    },
    {
      "cell_type": "markdown",
      "source": [
        "a₁v₁ + a₂v₂ + ... + aₙ*vₙ = 0"
      ],
      "metadata": {
        "id": "HVoscp-BloZn"
      }
    },
    {
      "cell_type": "markdown",
      "source": [
        "has only the **trivial solution** → all aᵢ = 0\n",
        "- **Linearly dependent** if:\n",
        "There exists **a non-zero solution** to the above equation\n",
        "\n",
        "---\n"
      ],
      "metadata": {
        "id": "lXem3oTxloFG"
      }
    },
    {
      "cell_type": "code",
      "execution_count": 1,
      "metadata": {
        "colab": {
          "base_uri": "https://localhost:8080/"
        },
        "id": "3GKPJNlBll69",
        "outputId": "3a72f02b-8459-47c1-a3d3-c70a919bef18"
      },
      "outputs": [
        {
          "output_type": "stream",
          "name": "stdout",
          "text": [
            "v2 is 2 * v1 → set is linearly dependent\n",
            "v3 and v4 span ℝ² → set is linearly independent\n"
          ]
        }
      ],
      "source": [
        "import numpy as np\n",
        "\n",
        "# Example 1: 2D Vectors (Linearly Dependent)\n",
        "v1 = np.array([1, 2])\n",
        "v2 = np.array([2, 4])  # v2 = 2 * v1 → dependent\n",
        "\n",
        "# Test: a*v1 + b*v2 = 0 → non-trivial solution exists\n",
        "# So the set {v1, v2} is dependent\n",
        "print(\"v2 is 2 * v1 → set is linearly dependent\")\n",
        "\n",
        "# Example 2: 2D Vectors (Independent)\n",
        "v3 = np.array([1, 0])\n",
        "v4 = np.array([0, 1])\n",
        "\n",
        "print(\"v3 and v4 span ℝ² → set is linearly independent\")\n"
      ]
    },
    {
      "cell_type": "markdown",
      "source": [
        "---\n",
        "\n",
        "## 🧠 3D Example – Finding Span and Testing Independence\n",
        "\n",
        "Let:\n"
      ],
      "metadata": {
        "id": "vid-aMXOl_OB"
      }
    },
    {
      "cell_type": "markdown",
      "source": [
        "v1 = [1, 0, 0]"
      ],
      "metadata": {
        "id": "FsMTWoT-mKPA"
      }
    },
    {
      "cell_type": "markdown",
      "source": [
        "v2 = [0, 1, 0]"
      ],
      "metadata": {
        "id": "qhlOIRgtmXR6"
      }
    },
    {
      "cell_type": "markdown",
      "source": [
        "v3 = [0, 0, 1]"
      ],
      "metadata": {
        "id": "iIocRtCtmM2i"
      }
    },
    {
      "cell_type": "markdown",
      "source": [
        "\n",
        "Any vector in ℝ³ can be written as:        \n",
        "a * v1 + b * v2 + c * v3 = [x, y, z]\n"
      ],
      "metadata": {
        "id": "HJcFLQDqnBXJ"
      }
    },
    {
      "cell_type": "markdown",
      "source": [
        "Solving for a, b, c gives:   \n",
        "a = x, b = y, c = z → span is all of ℝ³"
      ],
      "metadata": {
        "id": "c3XHgXb4mbyp"
      }
    },
    {
      "cell_type": "markdown",
      "source": [
        "\n",
        "To test for independence, set:  \n",
        "a * v1 + b * v2 + c * v3 = [0, 0, 0]  \n",
        "→ a = b = c = 0 → Only trivial solution ⇒ independent\n"
      ],
      "metadata": {
        "id": "oZaTX8zFm7hi"
      }
    },
    {
      "cell_type": "code",
      "source": [
        "# 3D test in NumPy\n",
        "v1 = np.array([1, 0, 0])\n",
        "v2 = np.array([0, 1, 0])\n",
        "v3 = np.array([0, 0, 1])\n",
        "\n",
        "# Try expressing [x, y, z] = a*v1 + b*v2 + c*v3\n",
        "# Let’s choose x=2, y=3, z=5\n",
        "x, y, z = 2, 3, 5\n",
        "combo = x * v1 + y * v2 + z * v3\n",
        "print(\"Linear combination:\", combo)\n",
        "\n",
        "# Test independence:\n",
        "# a*v1 + b*v2 + c*v3 = [0,0,0] only if a=b=c=0\n",
        "zero_combo = 0*v1 + 0*v2 + 0*v3\n",
        "print(\"Zero combination:\", zero_combo, \"→ Set is linearly independent\")\n"
      ],
      "metadata": {
        "colab": {
          "base_uri": "https://localhost:8080/"
        },
        "id": "Ch-PGBxGl8_p",
        "outputId": "179dd950-70ce-43fa-9cfa-007e4fa12211"
      },
      "execution_count": 2,
      "outputs": [
        {
          "output_type": "stream",
          "name": "stdout",
          "text": [
            "Linear combination: [2 3 5]\n",
            "Zero combination: [0 0 0] → Set is linearly independent\n"
          ]
        }
      ]
    }
  ]
}